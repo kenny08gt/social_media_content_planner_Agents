{
  "nbformat": 4,
  "nbformat_minor": 0,
  "metadata": {
    "colab": {
      "provenance": [],
      "authorship_tag": "ABX9TyNfeGgkISAeIqcYsUQdW99a",
      "include_colab_link": true
    },
    "kernelspec": {
      "name": "python3",
      "display_name": "Python 3"
    },
    "language_info": {
      "name": "python"
    }
  },
  "cells": [
    {
      "cell_type": "markdown",
      "metadata": {
        "id": "view-in-github",
        "colab_type": "text"
      },
      "source": [
        "<a href=\"https://colab.research.google.com/github/kenny08gt/social_media_content_planner_Agents/blob/main/social_media_content_planner_Agents.ipynb\" target=\"_parent\"><img src=\"https://colab.research.google.com/assets/colab-badge.svg\" alt=\"Open In Colab\"/></a>"
      ]
    },
    {
      "cell_type": "code",
      "source": [
        "!pip install openai-agents\n",
        "!pip install openai\n",
        "!pip install \"openai-agents[litellm]\""
      ],
      "metadata": {
        "colab": {
          "base_uri": "https://localhost:8080/"
        },
        "id": "ZMsmW1QHAN3O",
        "outputId": "88cb0af2-1087-4afd-b8e3-96d759965616"
      },
      "execution_count": null,
      "outputs": [
        {
          "output_type": "stream",
          "name": "stdout",
          "text": [
            "Requirement already satisfied: openai-agents in /usr/local/lib/python3.11/dist-packages (0.0.15)\n",
            "Requirement already satisfied: griffe<2,>=1.5.6 in /usr/local/lib/python3.11/dist-packages (from openai-agents) (1.7.3)\n",
            "Requirement already satisfied: mcp<2,>=1.8.0 in /usr/local/lib/python3.11/dist-packages (from openai-agents) (1.9.0)\n",
            "Requirement already satisfied: openai>=1.76.0 in /usr/local/lib/python3.11/dist-packages (from openai-agents) (1.78.1)\n",
            "Requirement already satisfied: pydantic<3,>=2.10 in /usr/local/lib/python3.11/dist-packages (from openai-agents) (2.11.4)\n",
            "Requirement already satisfied: requests<3,>=2.0 in /usr/local/lib/python3.11/dist-packages (from openai-agents) (2.32.3)\n",
            "Requirement already satisfied: types-requests<3,>=2.0 in /usr/local/lib/python3.11/dist-packages (from openai-agents) (2.32.0.20250515)\n",
            "Requirement already satisfied: typing-extensions<5,>=4.12.2 in /usr/local/lib/python3.11/dist-packages (from openai-agents) (4.13.2)\n",
            "Requirement already satisfied: colorama>=0.4 in /usr/local/lib/python3.11/dist-packages (from griffe<2,>=1.5.6->openai-agents) (0.4.6)\n",
            "Requirement already satisfied: anyio>=4.5 in /usr/local/lib/python3.11/dist-packages (from mcp<2,>=1.8.0->openai-agents) (4.9.0)\n",
            "Requirement already satisfied: httpx-sse>=0.4 in /usr/local/lib/python3.11/dist-packages (from mcp<2,>=1.8.0->openai-agents) (0.4.0)\n",
            "Requirement already satisfied: httpx>=0.27 in /usr/local/lib/python3.11/dist-packages (from mcp<2,>=1.8.0->openai-agents) (0.28.1)\n",
            "Requirement already satisfied: pydantic-settings>=2.5.2 in /usr/local/lib/python3.11/dist-packages (from mcp<2,>=1.8.0->openai-agents) (2.9.1)\n",
            "Requirement already satisfied: python-multipart>=0.0.9 in /usr/local/lib/python3.11/dist-packages (from mcp<2,>=1.8.0->openai-agents) (0.0.20)\n",
            "Requirement already satisfied: sse-starlette>=1.6.1 in /usr/local/lib/python3.11/dist-packages (from mcp<2,>=1.8.0->openai-agents) (2.3.5)\n",
            "Requirement already satisfied: starlette>=0.27 in /usr/local/lib/python3.11/dist-packages (from mcp<2,>=1.8.0->openai-agents) (0.46.2)\n",
            "Requirement already satisfied: uvicorn>=0.23.1 in /usr/local/lib/python3.11/dist-packages (from mcp<2,>=1.8.0->openai-agents) (0.34.2)\n",
            "Requirement already satisfied: distro<2,>=1.7.0 in /usr/local/lib/python3.11/dist-packages (from openai>=1.76.0->openai-agents) (1.9.0)\n",
            "Requirement already satisfied: jiter<1,>=0.4.0 in /usr/local/lib/python3.11/dist-packages (from openai>=1.76.0->openai-agents) (0.9.0)\n",
            "Requirement already satisfied: sniffio in /usr/local/lib/python3.11/dist-packages (from openai>=1.76.0->openai-agents) (1.3.1)\n",
            "Requirement already satisfied: tqdm>4 in /usr/local/lib/python3.11/dist-packages (from openai>=1.76.0->openai-agents) (4.67.1)\n",
            "Requirement already satisfied: annotated-types>=0.6.0 in /usr/local/lib/python3.11/dist-packages (from pydantic<3,>=2.10->openai-agents) (0.7.0)\n",
            "Requirement already satisfied: pydantic-core==2.33.2 in /usr/local/lib/python3.11/dist-packages (from pydantic<3,>=2.10->openai-agents) (2.33.2)\n",
            "Requirement already satisfied: typing-inspection>=0.4.0 in /usr/local/lib/python3.11/dist-packages (from pydantic<3,>=2.10->openai-agents) (0.4.0)\n",
            "Requirement already satisfied: charset-normalizer<4,>=2 in /usr/local/lib/python3.11/dist-packages (from requests<3,>=2.0->openai-agents) (3.4.2)\n",
            "Requirement already satisfied: idna<4,>=2.5 in /usr/local/lib/python3.11/dist-packages (from requests<3,>=2.0->openai-agents) (3.10)\n",
            "Requirement already satisfied: urllib3<3,>=1.21.1 in /usr/local/lib/python3.11/dist-packages (from requests<3,>=2.0->openai-agents) (2.4.0)\n",
            "Requirement already satisfied: certifi>=2017.4.17 in /usr/local/lib/python3.11/dist-packages (from requests<3,>=2.0->openai-agents) (2025.4.26)\n",
            "Requirement already satisfied: httpcore==1.* in /usr/local/lib/python3.11/dist-packages (from httpx>=0.27->mcp<2,>=1.8.0->openai-agents) (1.0.9)\n",
            "Requirement already satisfied: h11>=0.16 in /usr/local/lib/python3.11/dist-packages (from httpcore==1.*->httpx>=0.27->mcp<2,>=1.8.0->openai-agents) (0.16.0)\n",
            "Requirement already satisfied: python-dotenv>=0.21.0 in /usr/local/lib/python3.11/dist-packages (from pydantic-settings>=2.5.2->mcp<2,>=1.8.0->openai-agents) (1.1.0)\n",
            "Requirement already satisfied: click>=7.0 in /usr/local/lib/python3.11/dist-packages (from uvicorn>=0.23.1->mcp<2,>=1.8.0->openai-agents) (8.2.0)\n",
            "Requirement already satisfied: openai in /usr/local/lib/python3.11/dist-packages (1.78.1)\n",
            "Requirement already satisfied: anyio<5,>=3.5.0 in /usr/local/lib/python3.11/dist-packages (from openai) (4.9.0)\n",
            "Requirement already satisfied: distro<2,>=1.7.0 in /usr/local/lib/python3.11/dist-packages (from openai) (1.9.0)\n",
            "Requirement already satisfied: httpx<1,>=0.23.0 in /usr/local/lib/python3.11/dist-packages (from openai) (0.28.1)\n",
            "Requirement already satisfied: jiter<1,>=0.4.0 in /usr/local/lib/python3.11/dist-packages (from openai) (0.9.0)\n",
            "Requirement already satisfied: pydantic<3,>=1.9.0 in /usr/local/lib/python3.11/dist-packages (from openai) (2.11.4)\n",
            "Requirement already satisfied: sniffio in /usr/local/lib/python3.11/dist-packages (from openai) (1.3.1)\n",
            "Requirement already satisfied: tqdm>4 in /usr/local/lib/python3.11/dist-packages (from openai) (4.67.1)\n",
            "Requirement already satisfied: typing-extensions<5,>=4.11 in /usr/local/lib/python3.11/dist-packages (from openai) (4.13.2)\n",
            "Requirement already satisfied: idna>=2.8 in /usr/local/lib/python3.11/dist-packages (from anyio<5,>=3.5.0->openai) (3.10)\n",
            "Requirement already satisfied: certifi in /usr/local/lib/python3.11/dist-packages (from httpx<1,>=0.23.0->openai) (2025.4.26)\n",
            "Requirement already satisfied: httpcore==1.* in /usr/local/lib/python3.11/dist-packages (from httpx<1,>=0.23.0->openai) (1.0.9)\n",
            "Requirement already satisfied: h11>=0.16 in /usr/local/lib/python3.11/dist-packages (from httpcore==1.*->httpx<1,>=0.23.0->openai) (0.16.0)\n",
            "Requirement already satisfied: annotated-types>=0.6.0 in /usr/local/lib/python3.11/dist-packages (from pydantic<3,>=1.9.0->openai) (0.7.0)\n",
            "Requirement already satisfied: pydantic-core==2.33.2 in /usr/local/lib/python3.11/dist-packages (from pydantic<3,>=1.9.0->openai) (2.33.2)\n",
            "Requirement already satisfied: typing-inspection>=0.4.0 in /usr/local/lib/python3.11/dist-packages (from pydantic<3,>=1.9.0->openai) (0.4.0)\n",
            "Requirement already satisfied: openai-agents[litellm] in /usr/local/lib/python3.11/dist-packages (0.0.15)\n",
            "Requirement already satisfied: griffe<2,>=1.5.6 in /usr/local/lib/python3.11/dist-packages (from openai-agents[litellm]) (1.7.3)\n",
            "Requirement already satisfied: mcp<2,>=1.8.0 in /usr/local/lib/python3.11/dist-packages (from openai-agents[litellm]) (1.9.0)\n",
            "Requirement already satisfied: openai>=1.76.0 in /usr/local/lib/python3.11/dist-packages (from openai-agents[litellm]) (1.78.1)\n",
            "Requirement already satisfied: pydantic<3,>=2.10 in /usr/local/lib/python3.11/dist-packages (from openai-agents[litellm]) (2.11.4)\n",
            "Requirement already satisfied: requests<3,>=2.0 in /usr/local/lib/python3.11/dist-packages (from openai-agents[litellm]) (2.32.3)\n",
            "Requirement already satisfied: types-requests<3,>=2.0 in /usr/local/lib/python3.11/dist-packages (from openai-agents[litellm]) (2.32.0.20250515)\n",
            "Requirement already satisfied: typing-extensions<5,>=4.12.2 in /usr/local/lib/python3.11/dist-packages (from openai-agents[litellm]) (4.13.2)\n",
            "Collecting litellm<2,>=1.67.4.post1 (from openai-agents[litellm])\n",
            "  Downloading litellm-1.70.2-py3-none-any.whl.metadata (38 kB)\n",
            "Requirement already satisfied: colorama>=0.4 in /usr/local/lib/python3.11/dist-packages (from griffe<2,>=1.5.6->openai-agents[litellm]) (0.4.6)\n",
            "Requirement already satisfied: aiohttp in /usr/local/lib/python3.11/dist-packages (from litellm<2,>=1.67.4.post1->openai-agents[litellm]) (3.11.15)\n",
            "Requirement already satisfied: click in /usr/local/lib/python3.11/dist-packages (from litellm<2,>=1.67.4.post1->openai-agents[litellm]) (8.2.0)\n",
            "Requirement already satisfied: httpx>=0.23.0 in /usr/local/lib/python3.11/dist-packages (from litellm<2,>=1.67.4.post1->openai-agents[litellm]) (0.28.1)\n",
            "Requirement already satisfied: importlib-metadata>=6.8.0 in /usr/local/lib/python3.11/dist-packages (from litellm<2,>=1.67.4.post1->openai-agents[litellm]) (8.7.0)\n",
            "Requirement already satisfied: jinja2<4.0.0,>=3.1.2 in /usr/local/lib/python3.11/dist-packages (from litellm<2,>=1.67.4.post1->openai-agents[litellm]) (3.1.6)\n",
            "Requirement already satisfied: jsonschema<5.0.0,>=4.22.0 in /usr/local/lib/python3.11/dist-packages (from litellm<2,>=1.67.4.post1->openai-agents[litellm]) (4.23.0)\n",
            "INFO: pip is looking at multiple versions of litellm to determine which version is compatible with other requirements. This could take a while.\n",
            "  Downloading litellm-1.70.0-py3-none-any.whl.metadata (38 kB)\n",
            "  Downloading litellm-1.69.3-py3-none-any.whl.metadata (38 kB)\n",
            "  Downloading litellm-1.69.2-py3-none-any.whl.metadata (37 kB)\n",
            "  Downloading litellm-1.69.1-py3-none-any.whl.metadata (36 kB)\n",
            "  Downloading litellm-1.69.0-py3-none-any.whl.metadata (36 kB)\n",
            "  Downloading litellm-1.68.2-py3-none-any.whl.metadata (36 kB)\n",
            "  Downloading litellm-1.68.1-py3-none-any.whl.metadata (36 kB)\n",
            "INFO: pip is still looking at multiple versions of litellm to determine which version is compatible with other requirements. This could take a while.\n",
            "  Downloading litellm-1.68.0-py3-none-any.whl.metadata (36 kB)\n",
            "  Downloading litellm-1.67.6-py3-none-any.whl.metadata (36 kB)\n",
            "  Downloading litellm-1.67.5-py3-none-any.whl.metadata (36 kB)\n",
            "Requirement already satisfied: python-dotenv>=0.2.0 in /usr/local/lib/python3.11/dist-packages (from litellm<2,>=1.67.4.post1->openai-agents[litellm]) (1.1.0)\n",
            "Requirement already satisfied: tiktoken>=0.7.0 in /usr/local/lib/python3.11/dist-packages (from litellm<2,>=1.67.4.post1->openai-agents[litellm]) (0.9.0)\n",
            "Requirement already satisfied: tokenizers in /usr/local/lib/python3.11/dist-packages (from litellm<2,>=1.67.4.post1->openai-agents[litellm]) (0.21.1)\n",
            "Requirement already satisfied: anyio>=4.5 in /usr/local/lib/python3.11/dist-packages (from mcp<2,>=1.8.0->openai-agents[litellm]) (4.9.0)\n",
            "Requirement already satisfied: httpx-sse>=0.4 in /usr/local/lib/python3.11/dist-packages (from mcp<2,>=1.8.0->openai-agents[litellm]) (0.4.0)\n",
            "Requirement already satisfied: pydantic-settings>=2.5.2 in /usr/local/lib/python3.11/dist-packages (from mcp<2,>=1.8.0->openai-agents[litellm]) (2.9.1)\n",
            "Requirement already satisfied: python-multipart>=0.0.9 in /usr/local/lib/python3.11/dist-packages (from mcp<2,>=1.8.0->openai-agents[litellm]) (0.0.20)\n",
            "Requirement already satisfied: sse-starlette>=1.6.1 in /usr/local/lib/python3.11/dist-packages (from mcp<2,>=1.8.0->openai-agents[litellm]) (2.3.5)\n",
            "Requirement already satisfied: starlette>=0.27 in /usr/local/lib/python3.11/dist-packages (from mcp<2,>=1.8.0->openai-agents[litellm]) (0.46.2)\n",
            "Requirement already satisfied: uvicorn>=0.23.1 in /usr/local/lib/python3.11/dist-packages (from mcp<2,>=1.8.0->openai-agents[litellm]) (0.34.2)\n",
            "Requirement already satisfied: distro<2,>=1.7.0 in /usr/local/lib/python3.11/dist-packages (from openai>=1.76.0->openai-agents[litellm]) (1.9.0)\n",
            "Requirement already satisfied: jiter<1,>=0.4.0 in /usr/local/lib/python3.11/dist-packages (from openai>=1.76.0->openai-agents[litellm]) (0.9.0)\n",
            "Requirement already satisfied: sniffio in /usr/local/lib/python3.11/dist-packages (from openai>=1.76.0->openai-agents[litellm]) (1.3.1)\n",
            "Requirement already satisfied: tqdm>4 in /usr/local/lib/python3.11/dist-packages (from openai>=1.76.0->openai-agents[litellm]) (4.67.1)\n",
            "Requirement already satisfied: annotated-types>=0.6.0 in /usr/local/lib/python3.11/dist-packages (from pydantic<3,>=2.10->openai-agents[litellm]) (0.7.0)\n",
            "Requirement already satisfied: pydantic-core==2.33.2 in /usr/local/lib/python3.11/dist-packages (from pydantic<3,>=2.10->openai-agents[litellm]) (2.33.2)\n",
            "Requirement already satisfied: typing-inspection>=0.4.0 in /usr/local/lib/python3.11/dist-packages (from pydantic<3,>=2.10->openai-agents[litellm]) (0.4.0)\n",
            "Requirement already satisfied: charset-normalizer<4,>=2 in /usr/local/lib/python3.11/dist-packages (from requests<3,>=2.0->openai-agents[litellm]) (3.4.2)\n",
            "Requirement already satisfied: idna<4,>=2.5 in /usr/local/lib/python3.11/dist-packages (from requests<3,>=2.0->openai-agents[litellm]) (3.10)\n",
            "Requirement already satisfied: urllib3<3,>=1.21.1 in /usr/local/lib/python3.11/dist-packages (from requests<3,>=2.0->openai-agents[litellm]) (2.4.0)\n",
            "Requirement already satisfied: certifi>=2017.4.17 in /usr/local/lib/python3.11/dist-packages (from requests<3,>=2.0->openai-agents[litellm]) (2025.4.26)\n",
            "Requirement already satisfied: httpcore==1.* in /usr/local/lib/python3.11/dist-packages (from httpx>=0.23.0->litellm<2,>=1.67.4.post1->openai-agents[litellm]) (1.0.9)\n",
            "Requirement already satisfied: h11>=0.16 in /usr/local/lib/python3.11/dist-packages (from httpcore==1.*->httpx>=0.23.0->litellm<2,>=1.67.4.post1->openai-agents[litellm]) (0.16.0)\n",
            "Requirement already satisfied: zipp>=3.20 in /usr/local/lib/python3.11/dist-packages (from importlib-metadata>=6.8.0->litellm<2,>=1.67.4.post1->openai-agents[litellm]) (3.21.0)\n",
            "Requirement already satisfied: MarkupSafe>=2.0 in /usr/local/lib/python3.11/dist-packages (from jinja2<4.0.0,>=3.1.2->litellm<2,>=1.67.4.post1->openai-agents[litellm]) (3.0.2)\n",
            "Requirement already satisfied: attrs>=22.2.0 in /usr/local/lib/python3.11/dist-packages (from jsonschema<5.0.0,>=4.22.0->litellm<2,>=1.67.4.post1->openai-agents[litellm]) (25.3.0)\n",
            "Requirement already satisfied: jsonschema-specifications>=2023.03.6 in /usr/local/lib/python3.11/dist-packages (from jsonschema<5.0.0,>=4.22.0->litellm<2,>=1.67.4.post1->openai-agents[litellm]) (2025.4.1)\n",
            "Requirement already satisfied: referencing>=0.28.4 in /usr/local/lib/python3.11/dist-packages (from jsonschema<5.0.0,>=4.22.0->litellm<2,>=1.67.4.post1->openai-agents[litellm]) (0.36.2)\n",
            "Requirement already satisfied: rpds-py>=0.7.1 in /usr/local/lib/python3.11/dist-packages (from jsonschema<5.0.0,>=4.22.0->litellm<2,>=1.67.4.post1->openai-agents[litellm]) (0.24.0)\n",
            "Requirement already satisfied: regex>=2022.1.18 in /usr/local/lib/python3.11/dist-packages (from tiktoken>=0.7.0->litellm<2,>=1.67.4.post1->openai-agents[litellm]) (2024.11.6)\n",
            "Requirement already satisfied: aiohappyeyeballs>=2.3.0 in /usr/local/lib/python3.11/dist-packages (from aiohttp->litellm<2,>=1.67.4.post1->openai-agents[litellm]) (2.6.1)\n",
            "Requirement already satisfied: aiosignal>=1.1.2 in /usr/local/lib/python3.11/dist-packages (from aiohttp->litellm<2,>=1.67.4.post1->openai-agents[litellm]) (1.3.2)\n",
            "Requirement already satisfied: frozenlist>=1.1.1 in /usr/local/lib/python3.11/dist-packages (from aiohttp->litellm<2,>=1.67.4.post1->openai-agents[litellm]) (1.6.0)\n",
            "Requirement already satisfied: multidict<7.0,>=4.5 in /usr/local/lib/python3.11/dist-packages (from aiohttp->litellm<2,>=1.67.4.post1->openai-agents[litellm]) (6.4.3)\n",
            "Requirement already satisfied: propcache>=0.2.0 in /usr/local/lib/python3.11/dist-packages (from aiohttp->litellm<2,>=1.67.4.post1->openai-agents[litellm]) (0.3.1)\n",
            "Requirement already satisfied: yarl<2.0,>=1.17.0 in /usr/local/lib/python3.11/dist-packages (from aiohttp->litellm<2,>=1.67.4.post1->openai-agents[litellm]) (1.20.0)\n",
            "Requirement already satisfied: huggingface-hub<1.0,>=0.16.4 in /usr/local/lib/python3.11/dist-packages (from tokenizers->litellm<2,>=1.67.4.post1->openai-agents[litellm]) (0.31.2)\n",
            "Requirement already satisfied: filelock in /usr/local/lib/python3.11/dist-packages (from huggingface-hub<1.0,>=0.16.4->tokenizers->litellm<2,>=1.67.4.post1->openai-agents[litellm]) (3.18.0)\n",
            "Requirement already satisfied: fsspec>=2023.5.0 in /usr/local/lib/python3.11/dist-packages (from huggingface-hub<1.0,>=0.16.4->tokenizers->litellm<2,>=1.67.4.post1->openai-agents[litellm]) (2025.3.2)\n",
            "Requirement already satisfied: packaging>=20.9 in /usr/local/lib/python3.11/dist-packages (from huggingface-hub<1.0,>=0.16.4->tokenizers->litellm<2,>=1.67.4.post1->openai-agents[litellm]) (24.2)\n",
            "Requirement already satisfied: pyyaml>=5.1 in /usr/local/lib/python3.11/dist-packages (from huggingface-hub<1.0,>=0.16.4->tokenizers->litellm<2,>=1.67.4.post1->openai-agents[litellm]) (6.0.2)\n",
            "Downloading litellm-1.67.5-py3-none-any.whl (7.6 MB)\n",
            "\u001b[2K   \u001b[90m━━━━━━━━━━━━━━━━━━━━━━━━━━━━━━━━━━━━━━━━\u001b[0m \u001b[32m7.6/7.6 MB\u001b[0m \u001b[31m89.8 MB/s\u001b[0m eta \u001b[36m0:00:00\u001b[0m\n",
            "\u001b[?25hInstalling collected packages: litellm\n",
            "Successfully installed litellm-1.67.5\n"
          ]
        }
      ]
    },
    {
      "cell_type": "code",
      "execution_count": null,
      "metadata": {
        "id": "STm1ejgrACa4"
      },
      "outputs": [],
      "source": [
        "from agents import Agent, WebSearchTool, trace, Runner, gen_trace_id, function_tool\n",
        "from agents.model_settings import ModelSettings\n",
        "from pydantic import BaseModel\n",
        "from dotenv import load_dotenv\n",
        "import asyncio\n",
        "import os\n",
        "from typing import Dict\n",
        "from IPython.display import display, Markdown\n",
        "from google.colab import userdata\n",
        "from openai.types.responses import ResponseTextDeltaEvent"
      ]
    },
    {
      "cell_type": "code",
      "source": [
        "import os\n",
        "os.environ[\"GEMINI_API_KEY\"] = userdata.get('GOOGLE_API_KEY')\n",
        "\n",
        "INSTRUCTIONS = \"You are in charge of create copy  that will be used on the social media for pandy.cloud. Pandy cloud \\\n",
        "        is a small crm with automatization focused for small teams. You can do thing the first day \\\n",
        "        instead of days of configurations againts other crms. It has a free trial and a free forever \\\n",
        "        plan.\"\n",
        "\n",
        "copy_agent  = Agent(model=\"litellm/gemini/gemini-2.5-flash-preview-04-17\",\n",
        "    name=\"Copy agent\",\n",
        "    instructions=INSTRUCTIONS,\n",
        ")\n",
        "\n",
        "cmo_agent = Agent(model=\"litellm/gemini/gemini-2.5-flash-preview-04-17\",\n",
        "    name=\"CMO agent\",\n",
        "    instructions=\"You are an experienced chief marketing officer, who will review \\\n",
        "    the copy proposal from the copy_agent and choose the best one\"\n",
        ")\n",
        "\n",
        "gen_z_agent = Agent(model=\"litellm/gemini/gemini-2.5-flash-preview-04-17\",\n",
        "    name=\"GenZ agent\",\n",
        "    instructions=\"You are a young genz community manager, expert on tiktoks and hooks \\\n",
        "    choose the best copy provided from the copy_agent\")"
      ],
      "metadata": {
        "id": "ebmHXZjaAdfY"
      },
      "execution_count": null,
      "outputs": []
    },
    {
      "cell_type": "code",
      "source": [
        "result = Runner.run_streamed(copy_agent, input=\"Write 5 proposals of content\")\n",
        "async for event in result.stream_events():\n",
        "    if event.type == \"raw_response_event\" and isinstance(event.data, ResponseTextDeltaEvent):\n",
        "        print(event.data.delta, end=\"\", flush=True)"
      ],
      "metadata": {
        "colab": {
          "base_uri": "https://localhost:8080/"
        },
        "id": "jB_gCS2jA09Z",
        "outputId": "6e5c3f83-f0c6-4180-8188-5060c7f0e53e"
      },
      "execution_count": null,
      "outputs": [
        {
          "output_type": "stream",
          "name": "stderr",
          "text": [
            "WARNING:openai.agents:OPENAI_API_KEY is not set, skipping trace export\n"
          ]
        },
        {
          "output_type": "stream",
          "name": "stdout",
          "text": [
            "Okay, here are 5 proposals for social media content for Pandy Cloud, focusing on its core strengths: small team focus, speed to value, automation, and the free/trial offers.\n",
            "\n",
            "---\n",
            "\n",
            "**Proposal 1: The \"Day 1 Ready\" Angle**\n",
            "\n",
            "*   **Concept:** Highlight the core differentiator – getting value *instantly* compared to days or weeks of setup with other CRMs. Focus on the immediate productivity gain.\n",
            "*   **Target Audience:** Small teams frustrated by complex software onboarding.\n",
            "*   **Key Message:** Stop wasting time configuring. Start doing business on day one.\n",
            "*   **Call to Action:** \"See how fast you can get started!\" or \"Claim your free trial and be productive today!\"\n",
            "*   **Platform Focus:** LinkedIn, Twitter, Facebook (where business owners/managers are).\n",
            "*   **Visual Idea:** A dynamic graphic showing a clock/calendar quickly flipping from \"Days of Setup\" to \"Doing Business,\" or a split image/video showing a complex setup screen vs. a user already working within Pandy.\n",
            "*   **Example Copy:**\n",
            "    *   *Headline:* Tired of CRM Setup Headaches?\n",
            "    *   *Body:* Most CRMs take days (or weeks!) to get right. Pandy Cloud is built differently. Sign up and start connecting with clients, automating tasks, and growing your business... *today*. Seriously.\n",
            "    *   *Link:* [Link to Pandy Cloud Trial/Signup] #CRM #SmallBusiness #Productivity #NoCode #GetStartedFast\n",
            "\n",
            "---\n",
            "\n",
            "**Proposal 2: The \"Small Team, Big Results\" Angle**\n",
            "\n",
            "*   **Concept:** Position Pandy as the CRM built *specifically* for small teams, avoiding the unnecessary complexity and cost of enterprise solutions. Emphasize focus and efficiency.\n",
            "*   **Target Audience:** Small business owners and teams who feel overwhelmed by bloated software options.\n",
            "*   **Key Message:** You don't need enterprise complexity. You need smart tools focused on results.\n",
            "*   **Call to Action:** \"Discover the CRM built for teams like yours.\" or \"Find out why small teams love Pandy Cloud.\"\n",
            "*   **Platform Focus:** LinkedIn, Facebook, Instagram (can use more relatable visuals).\n",
            "*   **Visual Idea:** An image/illustration of a small, efficient team working together smoothly, perhaps with the Pandy logo subtly included. Or a comparison graphic showing a simplified workflow vs. a tangled mess.\n",
            "*   **Example Copy:**\n",
            "    *   *Headline:* Stop Paying for CRM Features You'll Never Use.\n",
            "    *   *Body:* Big CRMs are built for big companies. Pandy Cloud is designed for the agility and needs of *your* small team. Get the core CRM + automation you need to close deals and keep clients happy, without the bloat or steep learning curve.\n",
            "    *   *Link:* [Link to Pandy Cloud Features/Why for Small Teams page] #SmallBizCRM #Teamwork #Efficiency #FocusedSoftware #PandyCloud\n",
            "\n",
            "---\n",
            "\n",
            "**Proposal 3: The \"Automation Made Simple\" Angle**\n",
            "\n",
            "*   **Concept:** Showcase Pandy's automation capabilities, but stress that it's easy automation – not complex coding. Highlight how it saves time for small teams.\n",
            "*   **Target Audience:** Small teams looking to streamline repetitive tasks but lack technical expertise.\n",
            "*   **Key Message:** Automation shouldn't be hard. Let Pandy handle the busywork, simply.\n",
            "*   **Call to Action:** \"See how Pandy's simple automation saves you time.\" or \"Explore easy automation with our free trial.\"\n",
            "*   **Platform Focus:** LinkedIn, Twitter (good for short tips/benefits), potentially a short video demo on Facebook/Instagram.\n",
            "*   **Visual Idea:** A simple GIF or short video showing an easy automation being set up in Pandy (e.g., \"When deal status changes to 'Won', send celebratory email\"). An infographic listing simple automation examples.\n",
            "*   **Example Copy:**\n",
            "    *   *Headline:* Finally, CRM Automation That's Actually Easy.\n",
            "    *   *Body:* You know automation saves time, but complex setups can be intimidating. Pandy Cloud makes it simple. Set up triggers and actions in minutes to automate follow-ups, tasks, notifications, and more. Focus on selling, not clicking.\n",
            "    *   *Link:* [Link to Pandy Cloud Automation Features page] #CRMaAutomation #BusinessAutomation #SaveTime #SimpleTools #SmallTeamTech\n",
            "\n",
            "---\n",
            "\n",
            "**Proposal 4: The \"Risk-Free Exploration\" Angle**\n",
            "\n",
            "*   **Concept:** Directly promote the Free Trial and Free Forever plan as a completely risk-free way to experience the benefits of Pandy Cloud. Remove the barrier to entry.\n",
            "*   **Target Audience:** Potential users hesitant about cost or commitment.\n",
            "*   **Key Message:** Try Pandy Cloud. Free Trial. Free Plan. No strings attached.\n",
            "*   **Call to Action:** \"Start your Free Trial now!\" or \"Sign up for the Free Forever plan!\"\n",
            "*   **Platform Focus:** All platforms. This is a direct conversion play.\n",
            "*   **Visual Idea:** A clear, eye-catching graphic highlighting \"FREE TRIAL\" and \"FREE PLAN.\" Maybe a simple comparison showing key features in the free plan vs. trial.\n",
            "*   **Example Copy:**\n",
            "    *   *Headline:* Your Search for an Easy, Affordable CRM Ends Here.\n",
            "    *   *Body:* Ready for a CRM that works *for* your small team, right away? Pandy Cloud offers a generous Free Trial to test everything, plus a Free Forever plan for essential CRM features. Zero risk, maximum potential.\n",
            "    *   *Link:* [Link directly to Pandy Cloud Pricing/Signup page] #FreeCRM #CRMTrial #SmallBusinessTools #AffordableCRM #TryBeforeYouBuy\n",
            "\n",
            "---\n",
            "\n",
            "**Proposal 5: The \"Focus on Selling, Not Software\" Angle**\n",
            "\n",
            "*   **Concept:** Frame Pandy Cloud not just as software, but as a tool that *enables* small teams to get back to their core function: selling and building relationships. Contrast it with software that distracts.\n",
            "*   **Target Audience:** Small business owners and sales teams feeling bogged down by admin.\n",
            "*   **Key Message:** Pandy frees you up to do what you do best: grow your business.\n",
            "*   **Call to Action:** \"Spend less time managing software, more time selling. Learn how.\" or \"See how Pandy helps you focus on growth.\"\n",
            "*   **Platform Focus:** LinkedIn, Facebook, Twitter.\n",
            "*   **Visual Idea:** A split image showing someone looking frustrated at a screen vs. someone happily talking to a customer or closing a deal. Or a visual representing \"clearing the clutter\" to reveal a clear path.\n",
            "*   **Example Copy:**\n",
            "    *   *Headline:* Is Your CRM Helping You Sell, Or Just Adding Admin?\n",
            "    *   *Body:* If your CRM feels like another job, it's time for a change. Pandy Cloud is designed to be intuitive and quick, letting you focus on leads, deals, and customer relationships – not figuring out complex software. Get back to growing your business.\n",
            "    *   *Link:* [Link to Pandy Cloud Benefits page / Homepage] #SalesTools #CRMforSales #FocusOnGrowth #SmallBusinessSales #Streamline\n",
            "\n",
            "---\n",
            "\n",
            "Choose the proposal that best aligns with your current marketing goals or test different ones to see which resonates most with your audience! Good luck!"
          ]
        }
      ]
    },
    {
      "cell_type": "code",
      "source": [
        "result_cmo = Runner.run_streamed(cmo_agent, input=result.final_output)\n",
        "async for event in result_cmo.stream_events():\n",
        "    if event.type == \"raw_response_event\" and isinstance(event.data, ResponseTextDeltaEvent):\n",
        "        print(event.data.delta, end=\"\", flush=True)"
      ],
      "metadata": {
        "colab": {
          "base_uri": "https://localhost:8080/"
        },
        "id": "mS4kxlXYWngD",
        "outputId": "987cf17c-c79d-42d4-bdab-9516335b4181"
      },
      "execution_count": null,
      "outputs": [
        {
          "output_type": "stream",
          "name": "stderr",
          "text": [
            "/usr/local/lib/python3.11/dist-packages/httpx/_models.py:408: DeprecationWarning: Use 'content=<...>' to upload raw bytes/text content.\n",
            "  headers, stream = encode_request(\n",
            "WARNING:openai.agents:OPENAI_API_KEY is not set, skipping trace export\n"
          ]
        },
        {
          "output_type": "stream",
          "name": "stdout",
          "text": [
            "Okay team, fantastic work on these proposals. As"
          ]
        },
        {
          "output_type": "stream",
          "name": "stderr",
          "text": [
            "/usr/local/lib/python3.11/dist-packages/litellm/litellm_core_utils/streaming_handler.py:1696: PydanticDeprecatedSince20: The `dict` method is deprecated; use `model_dump` instead. Deprecated in Pydantic V2.0 to be removed in V3.0. See Pydantic V2 Migration Guide at https://errors.pydantic.dev/2.11/migration/\n",
            "  obj_dict = processed_chunk.dict()\n"
          ]
        },
        {
          "output_type": "stream",
          "name": "stdout",
          "text": [
            " CMO, I appreciate the thought put into hitting our core strengths and targeting the small business audience effectively. Each proposal touches on something important, and the visual ideas are well-aligned.\n",
            "\n",
            "Let's review them from a strategic perspective:\n",
            "\n",
            "1.  **\"Day 1 Ready\"**: Strong focus on speed-to-value, directly addressing a major pain point for small teams (time wasted on setup). Clear, benefit-driven headline and copy. Direct CTA. Excellent alignment with our \"speed\" differentiator.\n",
            "2.  **\"Small Team, Big Results\"**: Good positioning against enterprise competitors and emphasizing fit for small teams. Highlights efficiency and focus. The CTA is a bit softer (\"Discover,\" \"Find out\") but suitable for awareness. Solid messaging.\n",
            "3.  **\"Automation Made Simple\"**: Focuses on a key feature (automation) but smartly emphasizes the *ease* of it, which is crucial for non-technical small teams. Addresses another significant pain point (manual tasks) with a clear benefit (saves time). Good potential for visual demo.\n",
            "4.  **\"Risk-Free Exploration\"**: Direct focus on the offer (Free Trial/Plan). Excellent for lower-funnel conversion and removing barriers. The message is clear and the CTA is strong. Necessary to run, but perhaps less about the core *value* and more about the *access* to it.\n",
            "5.  **\"Focus on Selling, Not Software\"**: Addresses a high-level outcome pain point (admin burden distracting from core business). Positions Pandy as an enabler of growth. Good framing, speaks to the ultimate goal of a business owner/salesperson.\n",
            "\n",
            "**My Choice: Proposal 1 - The \"Day 1 Ready\" Angle**\n",
            "\n",
            "Here's why I believe Proposal 1 is the strongest starting point and the \"best\" of these proposals for our current focus:\n",
            "\n",
            "*   **Addresses the Most Immediate Pain Point:** For a small team evaluating new software, the thought of a long, complicated setup is often the biggest blocker. Promising \"Day 1 Ready\" directly tackles this fear and offers immediate relief. It's a highly compelling, tangible benefit right out of the gate.\n",
            "*   **Highlights a Core, Differentiated Strength:** Our speed-to-value is a major competitive advantage, especially against legacy or enterprise CRMs. Proposal 1 puts this front and center.\n",
            "*   **Leads to Immediate Value Experience:** This message encourages potential users to sign up and *immediately* see the benefit, validating our claim and increasing the likelihood they'll explore features like automation later. It ties directly into leveraging the Free Trial effectively.\n",
            "*   **Clear & Actionable:** The message is unambiguous, and the suggested CTAs (\"Get started today!\") directly align with the core promise.\n",
            "*   **Foundational Message:** Once a small team experiences how easy it is to get started (Day 1 Ready), they are more receptive to messages about simple automation (Proposal 3), staying focused (Proposal 5), and why we're built for them (Proposal 2). Proposal 1 gets their foot in the door by removing the initial hurdle.\n",
            "\n",
            "**In Summary:** While all proposals have merit and could form the basis of different campaigns over time, Proposal 1 \"Day 1 Ready\" is the most powerful initial hook because it directly addresses a primary barrier to adoption for our target audience (setup time/complexity) by highlighting our speed-to-value – a core and differentiated strength. It sets the stage for a quick, positive first impression.\n",
            "\n",
            "Let's prioritize developing creative for Proposal 1 first. We can then weave in elements from Proposal 3 (Simple Automation) and Proposal 5 (Focus on Selling) as follow-up messages once they're engaged, and Proposal 4 (Risk-Free Exploration) will be a constant underlying offer in all our messaging.\n",
            "\n",
            "Excellent work, and let's get this moving!"
          ]
        }
      ]
    },
    {
      "cell_type": "code",
      "source": [
        "result_genz = Runner.run_streamed(cmo_agent, input=result_cmo.final_output)\n",
        "async for event in result_genz.stream_events():\n",
        "    if event.type == \"raw_response_event\" and isinstance(event.data, ResponseTextDeltaEvent):\n",
        "        print(event.data.delta, end=\"\", flush=True)"
      ],
      "metadata": {
        "colab": {
          "base_uri": "https://localhost:8080/"
        },
        "id": "ZM0LUJpyYHDY",
        "outputId": "3ff1a0ab-0869-47ae-a662-c96167f08082"
      },
      "execution_count": null,
      "outputs": [
        {
          "output_type": "stream",
          "name": "stderr",
          "text": [
            "/usr/local/lib/python3.11/dist-packages/httpx/_models.py:408: DeprecationWarning: Use 'content=<...>' to upload raw bytes/text content.\n",
            "  headers, stream = encode_request(\n",
            "WARNING:openai.agents:OPENAI_API_KEY is not set, skipping trace export\n"
          ]
        },
        {
          "output_type": "stream",
          "name": "stdout",
          "text": [
            "Alright team, excellent summary and strategic thinking, [CMO's Name/My Name if applicable]. I fully concur with the assessment and the selection of \"Day 1 Ready\" as our lead message for"
          ]
        },
        {
          "output_type": "stream",
          "name": "stderr",
          "text": [
            "/usr/local/lib/python3.11/dist-packages/litellm/litellm_core_utils/streaming_handler.py:1696: PydanticDeprecatedSince20: The `dict` method is deprecated; use `model_dump` instead. Deprecated in Pydantic V2.0 to be removed in V3.0. See Pydantic V2 Migration Guide at https://errors.pydantic.dev/2.11/migration/\n",
            "  obj_dict = processed_chunk.dict()\n"
          ]
        },
        {
          "output_type": "stream",
          "name": "stdout",
          "text": [
            " the initial push.\n",
            "\n",
            "You've articulated the rationale perfectly: it hits the most immediate, tangible pain point for our target small businesses and spotlights one of our strongest, most differentiated competitive advantages – speed and ease of onboarding. Getting them to experience value *immediately* is the fastest path to adoption and advocacy.\n",
            "\n",
            "It's great to see how the other proposals aren't discarded but fit into a logical sequence. \"Simple Automation\" and \"Focus on Selling, Not Software\" are crucial benefits that resonate deeply *after* they see how easy it is to get started and use the core system. And \"Risk-Free Exploration\" underpins everything by lowering the barrier to entry.\n",
            "\n",
            "**Decision Confirmed:** We are moving forward with **Proposal 1: \"Day 1 Ready\"** as our primary campaign theme.\n",
            "\n",
            "**Next Steps:**\n",
            "\n",
            "1.  **Prioritize Creative Development:** Let's focus our creative resources immediately on bringing the \"Day 1 Ready\" concept to life visually and through compelling ad formats.\n",
            "2.  **Messaging Framework:** Build out the full messaging framework for the \"Day 1 Ready\" campaign across different channels (ads, landing pages, email follow-ups, etc.).\n",
            "3.  **Integrate Secondary Messages:** While #1 is the lead, ensure we have plans to introduce the themes of \"Simple Automation\" (#3) and \"Focus on Selling\" (#5) in follow-up sequences and later campaign phases.\n",
            "4.  **Underpin with Offer:** Ensure the \"Risk-Free Exploration\" (#4) is consistently presented as the clear call-to-action mechanism for \"Day 1 Ready.\"\n",
            "\n",
            "This is a strong direction that aligns our messaging directly with user need and competitive strength. Fantastic work, team. Let's get the creative wheels turning!"
          ]
        }
      ]
    },
    {
      "cell_type": "code",
      "source": [],
      "metadata": {
        "id": "f3QLWJm-YSPZ"
      },
      "execution_count": null,
      "outputs": []
    }
  ]
}